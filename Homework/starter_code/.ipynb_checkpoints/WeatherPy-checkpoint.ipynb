{
 "cells": [
  {
   "cell_type": "markdown",
   "metadata": {},
   "source": [
    "# WeatherPy\n",
    "----\n",
    "\n",
    "#### Note\n",
    "* Instructions have been included for each segment. You do not have to follow them exactly, but they are included to help you think through the steps."
   ]
  },
  {
   "cell_type": "code",
   "execution_count": 1,
   "metadata": {
    "scrolled": true
   },
   "outputs": [
    {
     "name": "stdout",
     "output_type": "stream",
     "text": [
      "5c48469fcbe2b4e8120cdca8199bd68c\n"
     ]
    }
   ],
   "source": [
    "# Dependencies and Setup\n",
    "import matplotlib.pyplot as plt\n",
    "import pandas as pd\n",
    "import numpy as np\n",
    "import requests\n",
    "import time\n",
    "from scipy.stats import linregress\n",
    "\n",
    "# Import API key\n",
    "from api_keys import weather_api_key\n",
    "print(weather_api_key)\n",
    "# Incorporated citipy to determine city based on latitude and longitude\n",
    "from citipy import citipy\n",
    "\n",
    "# Output File (CSV)\n",
    "output_data_file = \"../output_data/NathanAsh_cities.csv\"\n",
    "\n",
    "# Range of latitudes and longitudes\n",
    "lat_range = (-90, 90)\n",
    "lng_range = (-180, 180)"
   ]
  },
  {
   "cell_type": "markdown",
   "metadata": {},
   "source": [
    "## Generate Cities List"
   ]
  },
  {
   "cell_type": "code",
   "execution_count": 2,
   "metadata": {},
   "outputs": [
    {
     "name": "stdout",
     "output_type": "stream",
     "text": [
      "634\n"
     ]
    },
    {
     "data": {
      "text/plain": [
       "'amiens'"
      ]
     },
     "execution_count": 2,
     "metadata": {},
     "output_type": "execute_result"
    }
   ],
   "source": [
    "# List for holding lat_lngs and cities\n",
    "lat_lngs = []\n",
    "cities = []\n",
    "\n",
    "# Create a set of random lat and lng combinations\n",
    "lats = np.random.uniform(lat_range[0], lat_range[1], size=1500)\n",
    "lngs = np.random.uniform(lng_range[0], lng_range[1], size=1500)\n",
    "lat_lngs = zip(lats, lngs)\n",
    "\n",
    "# Identify nearest city for each lat, lng combination\n",
    "for lat_lng in lat_lngs:\n",
    "    city = citipy.nearest_city(lat_lng[0], lat_lng[1]).city_name\n",
    "    \n",
    "    # If the city is unique, then add it to a our cities list\n",
    "    if city not in cities:\n",
    "        cities.append(city)\n",
    "\n",
    "# Print the city count to confirm sufficient count\n",
    "print(len(cities))\n",
    "city"
   ]
  },
  {
   "cell_type": "markdown",
   "metadata": {},
   "source": [
    "### Perform API Calls\n",
    "* Perform a weather check on each city using a series of successive API calls.\n",
    "* Include a print log of each city as it'sbeing processed (with the city number and city name).\n"
   ]
  },
  {
   "cell_type": "code",
   "execution_count": 3,
   "metadata": {
    "scrolled": true
   },
   "outputs": [
    {
     "name": "stdout",
     "output_type": "stream",
     "text": [
      "Processing Record 1 of Set 1 | san onofre\n",
      "Processing Record 2 of Set 1 | shubarkuduk\n",
      "Failed: missing result | nizhneyansk\n",
      "Processing Record 3 of Set 1 | upernavik\n",
      "Processing Record 4 of Set 1 | caravelas\n",
      "Processing Record 5 of Set 1 | butaritari\n",
      "Processing Record 6 of Set 1 | punta arenas\n",
      "Processing Record 7 of Set 1 | vardo\n",
      "Processing Record 8 of Set 1 | san rafael\n",
      "Failed: missing result | urdzhar\n",
      "Processing Record 9 of Set 1 | iqaluit\n",
      "Processing Record 10 of Set 1 | ilulissat\n",
      "Processing Record 11 of Set 1 | torbay\n",
      "Processing Record 12 of Set 1 | thompson\n",
      "Processing Record 13 of Set 1 | sanmenxia\n",
      "Processing Record 14 of Set 1 | hermanus\n",
      "Processing Record 15 of Set 1 | vaini\n",
      "Failed: missing result | taolanaro\n",
      "Processing Record 16 of Set 1 | khatanga\n",
      "Processing Record 17 of Set 1 | saint-philippe\n",
      "Processing Record 18 of Set 1 | hobart\n",
      "Processing Record 19 of Set 1 | guerrero negro\n",
      "Failed: missing result | tumannyy\n",
      "Processing Record 20 of Set 1 | albany\n",
      "Processing Record 21 of Set 1 | jamestown\n",
      "Processing Record 22 of Set 1 | salalah\n",
      "Failed: missing result | sentyabrskiy\n",
      "Processing Record 23 of Set 1 | oruro\n",
      "Processing Record 24 of Set 1 | cape town\n",
      "Processing Record 25 of Set 1 | ushuaia\n",
      "Processing Record 26 of Set 1 | tura\n",
      "Failed: missing result | kamenskoye\n",
      "Processing Record 27 of Set 1 | dikson\n",
      "Processing Record 28 of Set 1 | tuatapere\n",
      "Processing Record 29 of Set 1 | nome\n",
      "Processing Record 30 of Set 1 | artigas\n",
      "Processing Record 31 of Set 1 | faanui\n",
      "Processing Record 32 of Set 1 | new norfolk\n",
      "Processing Record 33 of Set 1 | port elizabeth\n",
      "Processing Record 34 of Set 1 | zhigansk\n",
      "Processing Record 35 of Set 1 | carmen\n",
      "Processing Record 36 of Set 1 | menongue\n",
      "Failed: missing result | barentsburg\n",
      "Processing Record 37 of Set 1 | puerto ayora\n",
      "Failed: missing result | samusu\n",
      "Processing Record 38 of Set 1 | shitanjing\n",
      "Processing Record 39 of Set 1 | naze\n",
      "Failed: missing result | tsihombe\n",
      "Failed: missing result | cazaje\n",
      "Processing Record 40 of Set 1 | namibe\n",
      "Processing Record 41 of Set 1 | mnogovershinnyy\n",
      "Processing Record 42 of Set 1 | bengkulu\n",
      "Processing Record 43 of Set 1 | malakal\n",
      "Failed: missing result | illoqqortoormiut\n",
      "Processing Record 44 of Set 1 | puerto baquerizo moreno\n",
      "Processing Record 45 of Set 1 | smidovich\n",
      "Processing Record 46 of Set 1 | zermatt\n",
      "Processing Record 47 of Set 1 | port alfred\n",
      "Processing Record 48 of Set 1 | kaitangata\n",
      "Processing Record 49 of Set 1 | bandarbeyla\n",
      "Processing Record 0 of Set 2 | dusti\n",
      "Processing Record 1 of Set 2 | moree\n",
      "Processing Record 2 of Set 2 | henties bay\n",
      "Processing Record 3 of Set 2 | olafsvik\n",
      "Processing Record 4 of Set 2 | nikolsk\n",
      "Processing Record 5 of Set 2 | kodiak\n",
      "Processing Record 6 of Set 2 | whitehorse\n",
      "Processing Record 7 of Set 2 | barrow\n",
      "Processing Record 8 of Set 2 | bluff\n",
      "Processing Record 9 of Set 2 | tiksi\n",
      "Processing Record 10 of Set 2 | constitucion\n",
      "Processing Record 11 of Set 2 | hithadhoo\n",
      "Processing Record 12 of Set 2 | bethel\n",
      "Processing Record 13 of Set 2 | dingle\n",
      "Processing Record 14 of Set 2 | yeppoon\n",
      "Failed: missing result | grand river south east\n",
      "Processing Record 15 of Set 2 | luderitz\n",
      "Failed: missing result | saleaula\n",
      "Processing Record 16 of Set 2 | indiana\n",
      "Processing Record 17 of Set 2 | busselton\n",
      "Processing Record 18 of Set 2 | faya\n",
      "Processing Record 19 of Set 2 | murray bridge\n",
      "Processing Record 20 of Set 2 | lebedinyy\n",
      "Processing Record 21 of Set 2 | chany\n",
      "Processing Record 22 of Set 2 | saint-augustin\n",
      "Processing Record 23 of Set 2 | rawson\n",
      "Processing Record 24 of Set 2 | salto\n",
      "Processing Record 25 of Set 2 | castro\n",
      "Processing Record 26 of Set 2 | georgetown\n",
      "Processing Record 27 of Set 2 | bredasdorp\n",
      "Processing Record 28 of Set 2 | mataura\n",
      "Processing Record 29 of Set 2 | esna\n",
      "Processing Record 30 of Set 2 | kendari\n",
      "Processing Record 31 of Set 2 | jalu\n",
      "Processing Record 32 of Set 2 | korla\n",
      "Processing Record 33 of Set 2 | arraial do cabo\n",
      "Processing Record 34 of Set 2 | inverell\n",
      "Processing Record 35 of Set 2 | wanning\n",
      "Processing Record 36 of Set 2 | aksarka\n",
      "Processing Record 37 of Set 2 | provideniya\n",
      "Processing Record 38 of Set 2 | mackay\n",
      "Processing Record 39 of Set 2 | maneadero\n",
      "Processing Record 40 of Set 2 | poya\n",
      "Processing Record 41 of Set 2 | bay roberts\n",
      "Processing Record 42 of Set 2 | college\n",
      "Processing Record 43 of Set 2 | saint anthony\n",
      "Processing Record 44 of Set 2 | qaanaaq\n",
      "Processing Record 45 of Set 2 | victoria\n",
      "Processing Record 46 of Set 2 | belmonte\n",
      "Processing Record 47 of Set 2 | atuona\n",
      "Processing Record 48 of Set 2 | fortuna\n",
      "Processing Record 49 of Set 2 | halifax\n",
      "Processing Record 0 of Set 3 | shirokiy\n",
      "Processing Record 1 of Set 3 | ukiah\n",
      "Processing Record 2 of Set 3 | saint-francois\n",
      "Processing Record 3 of Set 3 | presidencia roque saenz pena\n",
      "Failed: missing result | palabuhanratu\n",
      "Processing Record 4 of Set 3 | wawa\n",
      "Processing Record 5 of Set 3 | yellowknife\n",
      "Processing Record 6 of Set 3 | avarua\n",
      "Processing Record 7 of Set 3 | axim\n",
      "Processing Record 8 of Set 3 | agadez\n",
      "Processing Record 9 of Set 3 | longyearbyen\n",
      "Processing Record 10 of Set 3 | hilo\n",
      "Processing Record 11 of Set 3 | rikitea\n",
      "Processing Record 12 of Set 3 | esperance\n",
      "Processing Record 13 of Set 3 | nikolskoye\n",
      "Processing Record 14 of Set 3 | semey\n",
      "Processing Record 15 of Set 3 | saskylakh\n",
      "Processing Record 16 of Set 3 | komsomolskiy\n",
      "Processing Record 17 of Set 3 | port hardy\n",
      "Failed: missing result | belushya guba\n",
      "Processing Record 18 of Set 3 | saldanha\n",
      "Failed: missing result | mys shmidta\n",
      "Processing Record 19 of Set 3 | ribeira grande\n",
      "Processing Record 20 of Set 3 | sao joao da barra\n",
      "Processing Record 21 of Set 3 | alenquer\n",
      "Failed: missing result | ruatoria\n",
      "Processing Record 22 of Set 3 | hami\n",
      "Processing Record 23 of Set 3 | roald\n",
      "Processing Record 24 of Set 3 | xining\n",
      "Processing Record 25 of Set 3 | gat\n",
      "Processing Record 26 of Set 3 | chaiya\n",
      "Processing Record 27 of Set 3 | kyren\n",
      "Processing Record 28 of Set 3 | vila do maio\n",
      "Processing Record 29 of Set 3 | airai\n",
      "Processing Record 30 of Set 3 | brandon\n",
      "Processing Record 31 of Set 3 | wencheng\n",
      "Processing Record 32 of Set 3 | mount isa\n",
      "Processing Record 33 of Set 3 | port lincoln\n",
      "Processing Record 34 of Set 3 | smithers\n",
      "Processing Record 35 of Set 3 | southbridge\n",
      "Processing Record 36 of Set 3 | taunggyi\n",
      "Processing Record 37 of Set 3 | cabo san lucas\n",
      "Processing Record 38 of Set 3 | kapaa\n",
      "Processing Record 39 of Set 3 | geraldton\n",
      "Processing Record 40 of Set 3 | cidreira\n",
      "Processing Record 41 of Set 3 | cacapava do sul\n",
      "Processing Record 42 of Set 3 | tiarei\n",
      "Processing Record 43 of Set 3 | maniitsoq\n",
      "Failed: missing result | lolua\n",
      "Processing Record 44 of Set 3 | yantal\n",
      "Processing Record 45 of Set 3 | denia\n",
      "Processing Record 46 of Set 3 | ajdabiya\n",
      "Processing Record 47 of Set 3 | tashtagol\n",
      "Processing Record 48 of Set 3 | kavieng\n",
      "Processing Record 49 of Set 3 | avera\n",
      "Processing Record 0 of Set 4 | phonhong\n",
      "Processing Record 1 of Set 4 | tayoltita\n",
      "Processing Record 2 of Set 4 | caraz\n",
      "Failed: missing result | rungata\n",
      "Processing Record 3 of Set 4 | nangong\n",
      "Processing Record 4 of Set 4 | palmerston\n",
      "Processing Record 5 of Set 4 | bucerias\n",
      "Processing Record 6 of Set 4 | macapa\n",
      "Processing Record 7 of Set 4 | lagoa\n",
      "Failed: missing result | kusye-aleksandrovskiy\n",
      "Processing Record 8 of Set 4 | itarema\n",
      "Processing Record 9 of Set 4 | chokurdakh\n",
      "Failed: missing result | halalo\n",
      "Processing Record 10 of Set 4 | tuktoyaktuk\n",
      "Processing Record 11 of Set 4 | pinega\n",
      "Failed: missing result | attawapiskat\n",
      "Processing Record 12 of Set 4 | nanortalik\n",
      "Processing Record 13 of Set 4 | cayenne\n",
      "Processing Record 14 of Set 4 | sorong\n",
      "Processing Record 15 of Set 4 | hirara\n",
      "Processing Record 16 of Set 4 | hasaki\n",
      "Processing Record 17 of Set 4 | mumford\n",
      "Processing Record 18 of Set 4 | bathsheba\n",
      "Processing Record 19 of Set 4 | srednekolymsk\n",
      "Processing Record 20 of Set 4 | marrakesh\n",
      "Processing Record 21 of Set 4 | cariamanga\n",
      "Processing Record 22 of Set 4 | tilichiki\n",
      "Processing Record 23 of Set 4 | marsa matruh\n",
      "Processing Record 24 of Set 4 | great yarmouth\n",
      "Processing Record 25 of Set 4 | lebu\n",
      "Processing Record 26 of Set 4 | hofn\n",
      "Processing Record 27 of Set 4 | port hedland\n",
      "Processing Record 28 of Set 4 | adrar\n",
      "Processing Record 29 of Set 4 | nehe\n",
      "Processing Record 30 of Set 4 | waingapu\n",
      "Processing Record 31 of Set 4 | fort nelson\n",
      "Processing Record 32 of Set 4 | tasiilaq\n"
     ]
    },
    {
     "name": "stdout",
     "output_type": "stream",
     "text": [
      "Processing Record 33 of Set 4 | nyandoma\n",
      "Processing Record 34 of Set 4 | aklavik\n",
      "Processing Record 35 of Set 4 | storforshei\n",
      "Processing Record 36 of Set 4 | crewe\n",
      "Processing Record 37 of Set 4 | chuy\n",
      "Processing Record 38 of Set 4 | harper\n",
      "Processing Record 39 of Set 4 | sao filipe\n",
      "Processing Record 40 of Set 4 | baghmara\n",
      "Processing Record 41 of Set 4 | teya\n",
      "Processing Record 42 of Set 4 | oga\n",
      "Processing Record 43 of Set 4 | biak\n",
      "Processing Record 44 of Set 4 | vostok\n",
      "Processing Record 45 of Set 4 | bambous virieux\n",
      "Processing Record 46 of Set 4 | saint george\n",
      "Processing Record 47 of Set 4 | tabas\n",
      "Processing Record 48 of Set 4 | marawi\n",
      "Processing Record 49 of Set 4 | yershov\n",
      "Processing Record 0 of Set 5 | makakilo city\n",
      "Processing Record 1 of Set 5 | muisne\n",
      "Processing Record 2 of Set 5 | igbo ora\n",
      "Processing Record 3 of Set 5 | usagara\n",
      "Processing Record 4 of Set 5 | ancud\n",
      "Processing Record 5 of Set 5 | mirnyy\n",
      "Processing Record 6 of Set 5 | krasnoselkup\n",
      "Processing Record 7 of Set 5 | cherskiy\n",
      "Processing Record 8 of Set 5 | wajir\n",
      "Processing Record 9 of Set 5 | kaiyuan\n",
      "Processing Record 10 of Set 5 | islamkot\n",
      "Processing Record 11 of Set 5 | xuddur\n",
      "Processing Record 12 of Set 5 | mankato\n",
      "Processing Record 13 of Set 5 | abu samrah\n",
      "Processing Record 14 of Set 5 | bubaque\n",
      "Processing Record 15 of Set 5 | grootfontein\n",
      "Processing Record 16 of Set 5 | santa cruz\n",
      "Processing Record 17 of Set 5 | rorvik\n",
      "Processing Record 18 of Set 5 | baykit\n",
      "Processing Record 19 of Set 5 | miandrivazo\n",
      "Processing Record 20 of Set 5 | gamba\n",
      "Processing Record 21 of Set 5 | saint-joseph\n",
      "Processing Record 22 of Set 5 | pennagaram\n",
      "Processing Record 23 of Set 5 | talcahuano\n",
      "Processing Record 24 of Set 5 | beringovskiy\n",
      "Processing Record 25 of Set 5 | zaysan\n",
      "Processing Record 26 of Set 5 | hervey bay\n",
      "Processing Record 27 of Set 5 | ostrovnoy\n",
      "Processing Record 28 of Set 5 | kadoma\n",
      "Processing Record 29 of Set 5 | tadine\n",
      "Failed: missing result | metehara\n",
      "Processing Record 30 of Set 5 | okha\n",
      "Processing Record 31 of Set 5 | pevek\n",
      "Processing Record 32 of Set 5 | vestmannaeyjar\n",
      "Processing Record 33 of Set 5 | ponta do sol\n",
      "Processing Record 34 of Set 5 | weligama\n",
      "Processing Record 35 of Set 5 | houma\n",
      "Processing Record 36 of Set 5 | abha\n",
      "Processing Record 37 of Set 5 | roseburg\n",
      "Processing Record 38 of Set 5 | andover\n",
      "Processing Record 39 of Set 5 | esmeraldas\n",
      "Processing Record 40 of Set 5 | aanekoski\n",
      "Processing Record 41 of Set 5 | lorengau\n",
      "Failed: missing result | umm durman\n",
      "Processing Record 42 of Set 5 | sertolovo\n",
      "Processing Record 43 of Set 5 | hambantota\n",
      "Processing Record 44 of Set 5 | sindi\n",
      "Processing Record 45 of Set 5 | venkatagiri\n",
      "Processing Record 46 of Set 5 | guarda\n",
      "Processing Record 47 of Set 5 | lazaro cardenas\n",
      "Processing Record 48 of Set 5 | tautira\n",
      "Processing Record 49 of Set 5 | vila franca do campo\n",
      "Processing Record 0 of Set 6 | yar-sale\n",
      "Processing Record 1 of Set 6 | kruisfontein\n",
      "Processing Record 2 of Set 6 | alice springs\n",
      "Processing Record 3 of Set 6 | vokhma\n",
      "Processing Record 4 of Set 6 | agbor\n",
      "Processing Record 5 of Set 6 | rockport\n",
      "Processing Record 6 of Set 6 | grenfell\n",
      "Processing Record 7 of Set 6 | contai\n",
      "Processing Record 8 of Set 6 | kazuno\n",
      "Processing Record 9 of Set 6 | ambilobe\n",
      "Processing Record 10 of Set 6 | bage\n",
      "Processing Record 11 of Set 6 | kavaratti\n",
      "Processing Record 12 of Set 6 | santiago\n",
      "Processing Record 13 of Set 6 | narsaq\n",
      "Processing Record 14 of Set 6 | norman wells\n",
      "Processing Record 15 of Set 6 | tsimlyansk\n",
      "Processing Record 16 of Set 6 | guider\n",
      "Processing Record 17 of Set 6 | parfenyevo\n",
      "Processing Record 18 of Set 6 | zaoyang\n",
      "Processing Record 19 of Set 6 | hushitai\n",
      "Failed: missing result | viligili\n",
      "Processing Record 20 of Set 6 | kutum\n",
      "Processing Record 21 of Set 6 | morehead\n",
      "Processing Record 22 of Set 6 | dunedin\n",
      "Processing Record 23 of Set 6 | laguna\n",
      "Processing Record 24 of Set 6 | mangrol\n",
      "Processing Record 25 of Set 6 | mar del plata\n",
      "Processing Record 26 of Set 6 | pacific grove\n",
      "Processing Record 27 of Set 6 | east london\n",
      "Processing Record 28 of Set 6 | stephenville\n",
      "Failed: missing result | tawnat\n",
      "Processing Record 29 of Set 6 | lasa\n",
      "Processing Record 30 of Set 6 | itoman\n",
      "Failed: missing result | abu jubayhah\n",
      "Processing Record 31 of Set 6 | muroto\n",
      "Processing Record 32 of Set 6 | cockburn town\n",
      "Processing Record 33 of Set 6 | asau\n",
      "Failed: missing result | malwan\n",
      "Failed: missing result | komyshnya\n",
      "Processing Record 34 of Set 6 | sencha\n",
      "Processing Record 35 of Set 6 | rawatbhata\n",
      "Processing Record 36 of Set 6 | minab\n",
      "Processing Record 37 of Set 6 | kasempa\n",
      "Processing Record 38 of Set 6 | myaundzha\n",
      "Processing Record 39 of Set 6 | port macquarie\n",
      "Processing Record 40 of Set 6 | katsuura\n",
      "Processing Record 41 of Set 6 | xinmin\n",
      "Processing Record 42 of Set 6 | north bend\n",
      "Processing Record 43 of Set 6 | baytown\n",
      "Processing Record 44 of Set 6 | khandyga\n",
      "Processing Record 45 of Set 6 | chern\n",
      "Processing Record 46 of Set 6 | bambari\n",
      "Processing Record 47 of Set 6 | carnarvon\n",
      "Failed: missing result | vaitupu\n",
      "Processing Record 48 of Set 6 | lumeje\n",
      "Processing Record 49 of Set 6 | ferrol\n",
      "Processing Record 0 of Set 7 | mizdah\n",
      "Processing Record 1 of Set 7 | manturovo\n",
      "Processing Record 2 of Set 7 | kurumkan\n",
      "Processing Record 3 of Set 7 | svetlaya\n",
      "Processing Record 4 of Set 7 | flinders\n",
      "Processing Record 5 of Set 7 | severo-kurilsk\n",
      "Processing Record 6 of Set 7 | coahuayana\n",
      "Processing Record 7 of Set 7 | ponta delgada\n",
      "Processing Record 8 of Set 7 | otradnoye\n",
      "Processing Record 9 of Set 7 | lompoc\n",
      "Processing Record 10 of Set 7 | pisco\n",
      "Processing Record 11 of Set 7 | belaya gora\n",
      "Processing Record 12 of Set 7 | tongzi\n",
      "Processing Record 13 of Set 7 | arawa\n",
      "Processing Record 14 of Set 7 | amapa\n",
      "Processing Record 15 of Set 7 | moron\n",
      "Processing Record 16 of Set 7 | oktyabrskoye\n",
      "Failed: missing result | amderma\n",
      "Processing Record 17 of Set 7 | san patricio\n",
      "Processing Record 18 of Set 7 | kyabe\n",
      "Processing Record 19 of Set 7 | tamandare\n",
      "Processing Record 20 of Set 7 | kiama\n",
      "Processing Record 21 of Set 7 | grindavik\n",
      "Processing Record 22 of Set 7 | tessalit\n",
      "Processing Record 23 of Set 7 | coquimbo\n",
      "Processing Record 24 of Set 7 | mananara\n",
      "Processing Record 25 of Set 7 | pangody\n",
      "Processing Record 26 of Set 7 | sangolqui\n",
      "Processing Record 27 of Set 7 | novikovo\n",
      "Processing Record 28 of Set 7 | jackson\n",
      "Processing Record 29 of Set 7 | pietarsaari\n",
      "Processing Record 30 of Set 7 | mayumba\n",
      "Processing Record 31 of Set 7 | koutsouras\n",
      "Processing Record 32 of Set 7 | devils lake\n",
      "Processing Record 33 of Set 7 | praia da vitoria\n",
      "Processing Record 34 of Set 7 | buala\n",
      "Processing Record 35 of Set 7 | vanderhoof\n",
      "Processing Record 36 of Set 7 | porto santo\n",
      "Processing Record 37 of Set 7 | san antonio\n",
      "Processing Record 38 of Set 7 | valley city\n",
      "Processing Record 39 of Set 7 | coos bay\n",
      "Processing Record 40 of Set 7 | quelimane\n",
      "Processing Record 41 of Set 7 | meulaboh\n",
      "Processing Record 42 of Set 7 | shirgaon\n",
      "Processing Record 43 of Set 7 | peace river\n",
      "Processing Record 44 of Set 7 | huilong\n",
      "Processing Record 45 of Set 7 | alofi\n",
      "Processing Record 46 of Set 7 | souillac\n",
      "Processing Record 47 of Set 7 | te anau\n",
      "Processing Record 48 of Set 7 | kihei\n",
      "Processing Record 49 of Set 7 | vila\n",
      "Processing Record 0 of Set 8 | kieta\n",
      "Processing Record 1 of Set 8 | najran\n",
      "Failed: missing result | dekoa\n",
      "Processing Record 2 of Set 8 | esik\n",
      "Processing Record 3 of Set 8 | kargasok\n",
      "Processing Record 4 of Set 8 | klyuchi\n",
      "Processing Record 5 of Set 8 | miri\n",
      "Processing Record 6 of Set 8 | kenai\n",
      "Processing Record 7 of Set 8 | sorland\n",
      "Processing Record 8 of Set 8 | abu kamal\n",
      "Processing Record 9 of Set 8 | povenets\n",
      "Processing Record 10 of Set 8 | broken hill\n",
      "Processing Record 11 of Set 8 | boa viagem\n",
      "Processing Record 12 of Set 8 | sitka\n",
      "Processing Record 13 of Set 8 | arbuzynka\n",
      "Processing Record 14 of Set 8 | pemangkat\n",
      "Processing Record 15 of Set 8 | sulangan\n",
      "Processing Record 16 of Set 8 | burns lake\n",
      "Processing Record 17 of Set 8 | cuaspud\n",
      "Processing Record 18 of Set 8 | san policarpo\n",
      "Processing Record 19 of Set 8 | verkhnyaya inta\n",
      "Failed: missing result | mergui\n",
      "Processing Record 20 of Set 8 | lakes entrance\n",
      "Processing Record 21 of Set 8 | xinqing\n",
      "Processing Record 22 of Set 8 | cassilandia\n",
      "Processing Record 23 of Set 8 | ewa beach\n",
      "Processing Record 24 of Set 8 | yuancheng\n"
     ]
    },
    {
     "name": "stdout",
     "output_type": "stream",
     "text": [
      "Processing Record 25 of Set 8 | chaman\n",
      "Processing Record 26 of Set 8 | skjervoy\n",
      "Processing Record 27 of Set 8 | salym\n",
      "Processing Record 28 of Set 8 | isangel\n",
      "Failed: missing result | aflu\n",
      "Processing Record 29 of Set 8 | banjar\n",
      "Processing Record 30 of Set 8 | coihaique\n",
      "Processing Record 31 of Set 8 | zavetnoye\n",
      "Processing Record 32 of Set 8 | darnah\n",
      "Processing Record 33 of Set 8 | goundam\n",
      "Processing Record 34 of Set 8 | pandua\n",
      "Processing Record 35 of Set 8 | petropavlovsk-kamchatskiy\n",
      "Processing Record 36 of Set 8 | sri aman\n",
      "Processing Record 37 of Set 8 | syracuse\n",
      "Processing Record 38 of Set 8 | hit\n",
      "Processing Record 39 of Set 8 | talnakh\n",
      "Processing Record 40 of Set 8 | songea\n",
      "Failed: missing result | marcona\n",
      "Processing Record 41 of Set 8 | chake chake\n",
      "Processing Record 42 of Set 8 | mosquera\n",
      "Processing Record 43 of Set 8 | pafos\n",
      "Processing Record 44 of Set 8 | pangkalanbuun\n",
      "Processing Record 45 of Set 8 | shubarshi\n",
      "Processing Record 46 of Set 8 | mago\n",
      "Processing Record 47 of Set 8 | marzuq\n",
      "Processing Record 48 of Set 8 | royan\n",
      "Processing Record 49 of Set 8 | la paz\n",
      "Processing Record 0 of Set 9 | batticaloa\n",
      "Processing Record 1 of Set 9 | khani\n",
      "Processing Record 2 of Set 9 | kabinda\n",
      "Processing Record 3 of Set 9 | san cristobal\n",
      "Processing Record 4 of Set 9 | sarahan\n",
      "Processing Record 5 of Set 9 | eskhar\n",
      "Processing Record 6 of Set 9 | magrath\n",
      "Processing Record 7 of Set 9 | kautokeino\n",
      "Processing Record 8 of Set 9 | wellington\n",
      "Failed: missing result | ardistan\n",
      "Failed: missing result | bacuit\n",
      "Processing Record 9 of Set 9 | klaksvik\n",
      "Processing Record 10 of Set 9 | bariadi\n",
      "Processing Record 11 of Set 9 | nizhniy kuranakh\n",
      "Processing Record 12 of Set 9 | gannan\n",
      "Processing Record 13 of Set 9 | mahon\n",
      "Processing Record 14 of Set 9 | sabang\n",
      "Processing Record 15 of Set 9 | cap malheureux\n",
      "Processing Record 16 of Set 9 | siocon\n",
      "Failed: missing result | meyungs\n",
      "Processing Record 17 of Set 9 | sal rei\n",
      "Processing Record 18 of Set 9 | tarabuco\n",
      "Processing Record 19 of Set 9 | labuhan\n",
      "Processing Record 20 of Set 9 | mitchell\n",
      "Processing Record 21 of Set 9 | siilinjarvi\n",
      "Processing Record 22 of Set 9 | pangnirtung\n",
      "Processing Record 23 of Set 9 | moose factory\n",
      "Processing Record 24 of Set 9 | ilorin\n",
      "Failed: missing result | katsiveli\n",
      "Processing Record 25 of Set 9 | ugoofaaru\n",
      "Processing Record 26 of Set 9 | qui nhon\n",
      "Processing Record 27 of Set 9 | kungurtug\n",
      "Processing Record 28 of Set 9 | puerto madryn\n",
      "Processing Record 29 of Set 9 | gondanglegi\n",
      "Processing Record 30 of Set 9 | havre-saint-pierre\n",
      "Processing Record 31 of Set 9 | bocanda\n",
      "Processing Record 32 of Set 9 | puerto madero\n",
      "Processing Record 33 of Set 9 | venado tuerto\n",
      "Processing Record 34 of Set 9 | porto novo\n",
      "Processing Record 35 of Set 9 | monrovia\n",
      "Processing Record 36 of Set 9 | bloomingdale\n",
      "Processing Record 37 of Set 9 | nouadhibou\n",
      "Processing Record 38 of Set 9 | egvekinot\n",
      "Processing Record 39 of Set 9 | huarmey\n",
      "Processing Record 40 of Set 9 | falmouth\n",
      "Processing Record 41 of Set 9 | talara\n",
      "Processing Record 42 of Set 9 | aguimes\n",
      "Processing Record 43 of Set 9 | gazanjyk\n",
      "Processing Record 44 of Set 9 | severodvinsk\n",
      "Processing Record 45 of Set 9 | bairiki\n",
      "Processing Record 46 of Set 9 | kyra\n",
      "Processing Record 47 of Set 9 | portland\n",
      "Processing Record 48 of Set 9 | nelson bay\n",
      "Processing Record 49 of Set 9 | sur\n",
      "Processing Record 0 of Set 10 | sakata\n",
      "Processing Record 1 of Set 10 | conceicao do araguaia\n",
      "Processing Record 2 of Set 10 | fountain\n",
      "Processing Record 3 of Set 10 | careiro da varzea\n",
      "Failed: missing result | saryshagan\n",
      "Processing Record 4 of Set 10 | hualmay\n",
      "Processing Record 5 of Set 10 | merauke\n",
      "Processing Record 6 of Set 10 | vanimo\n",
      "Processing Record 7 of Set 10 | zalaegerszeg\n",
      "Processing Record 8 of Set 10 | rayon\n",
      "Processing Record 9 of Set 10 | colares\n",
      "Processing Record 10 of Set 10 | baruun-urt\n",
      "Processing Record 11 of Set 10 | sebaco\n",
      "Processing Record 12 of Set 10 | adelfia\n",
      "Processing Record 13 of Set 10 | quesnel\n",
      "Processing Record 14 of Set 10 | vranjska banja\n",
      "Processing Record 15 of Set 10 | dhidhdhoo\n",
      "Processing Record 16 of Set 10 | codrington\n",
      "Processing Record 17 of Set 10 | lyubymivka\n",
      "Processing Record 18 of Set 10 | morecambe\n",
      "Processing Record 19 of Set 10 | jiexiu\n",
      "Processing Record 20 of Set 10 | venancio aires\n",
      "Processing Record 21 of Set 10 | vanavara\n",
      "Processing Record 22 of Set 10 | rosario\n",
      "Failed: missing result | umzimvubu\n",
      "Processing Record 23 of Set 10 | seddon\n",
      "Processing Record 24 of Set 10 | yumen\n",
      "Processing Record 25 of Set 10 | san quintin\n",
      "Processing Record 26 of Set 10 | taoudenni\n",
      "Processing Record 27 of Set 10 | walvis bay\n",
      "Processing Record 28 of Set 10 | oussouye\n",
      "Processing Record 29 of Set 10 | margate\n",
      "Processing Record 30 of Set 10 | sawai madhopur\n",
      "Processing Record 31 of Set 10 | nkowakowa\n",
      "Processing Record 32 of Set 10 | la ronge\n",
      "Processing Record 33 of Set 10 | touros\n",
      "Processing Record 34 of Set 10 | tutzing\n",
      "Processing Record 35 of Set 10 | gela\n",
      "Processing Record 36 of Set 10 | vila velha\n",
      "Processing Record 37 of Set 10 | lavrentiya\n",
      "Processing Record 38 of Set 10 | nara\n",
      "Processing Record 39 of Set 10 | tabou\n",
      "Processing Record 40 of Set 10 | pilar\n",
      "Processing Record 41 of Set 10 | manoel urbano\n",
      "Processing Record 42 of Set 10 | acapulco\n",
      "Processing Record 43 of Set 10 | seoul\n",
      "Processing Record 44 of Set 10 | srandakan\n",
      "Processing Record 45 of Set 10 | sumbe\n",
      "Processing Record 46 of Set 10 | mahebourg\n",
      "Processing Record 47 of Set 10 | emborion\n",
      "Processing Record 48 of Set 10 | ouallam\n",
      "Processing Record 49 of Set 10 | jaisalmer\n",
      "Processing Record 0 of Set 11 | reforma\n",
      "Processing Record 1 of Set 11 | lac du bonnet\n",
      "Processing Record 2 of Set 11 | troitskoye\n",
      "Processing Record 3 of Set 11 | mendoza\n",
      "Processing Record 4 of Set 11 | ruwi\n",
      "Processing Record 5 of Set 11 | daru\n",
      "Processing Record 6 of Set 11 | newport\n",
      "Processing Record 7 of Set 11 | nemuro\n",
      "Processing Record 8 of Set 11 | ekhabi\n",
      "Processing Record 9 of Set 11 | skoghall\n",
      "Processing Record 10 of Set 11 | passo de camaragibe\n",
      "Processing Record 11 of Set 11 | kolpashevo\n",
      "Processing Record 12 of Set 11 | aleksandrovskiy zavod\n",
      "Processing Record 13 of Set 11 | pozo colorado\n",
      "Processing Record 14 of Set 11 | vari\n",
      "Processing Record 15 of Set 11 | kahului\n",
      "Processing Record 16 of Set 11 | mehamn\n",
      "Processing Record 17 of Set 11 | lashio\n",
      "Processing Record 18 of Set 11 | zhucheng\n",
      "Processing Record 19 of Set 11 | staryy nadym\n",
      "Processing Record 20 of Set 11 | chengde\n",
      "Processing Record 21 of Set 11 | jala\n",
      "Processing Record 22 of Set 11 | omsukchan\n",
      "Processing Record 23 of Set 11 | karpathos\n",
      "Processing Record 24 of Set 11 | half moon bay\n",
      "Processing Record 25 of Set 11 | alyangula\n",
      "Processing Record 26 of Set 11 | archidona\n",
      "Processing Record 27 of Set 11 | teeli\n",
      "Processing Record 28 of Set 11 | yatou\n",
      "Processing Record 29 of Set 11 | marolambo\n",
      "Processing Record 30 of Set 11 | marstal\n",
      "Processing Record 31 of Set 11 | gunjur\n",
      "Processing Record 32 of Set 11 | muli\n",
      "Processing Record 33 of Set 11 | gizo\n",
      "Processing Record 34 of Set 11 | roura\n",
      "Processing Record 35 of Set 11 | polunochnoye\n",
      "Processing Record 36 of Set 11 | vytegra\n",
      "Processing Record 37 of Set 11 | prainha\n",
      "Processing Record 38 of Set 11 | takaka\n",
      "Processing Record 39 of Set 11 | tarbagatay\n",
      "Failed: missing result | chagda\n",
      "Processing Record 40 of Set 11 | kushiro\n",
      "Processing Record 41 of Set 11 | siguiri\n",
      "Processing Record 42 of Set 11 | deleni\n",
      "Processing Record 43 of Set 11 | santa vitoria\n",
      "Processing Record 44 of Set 11 | ust-kuyga\n",
      "Processing Record 45 of Set 11 | asyut\n",
      "Processing Record 46 of Set 11 | qaqortoq\n",
      "Processing Record 47 of Set 11 | tacoronte\n",
      "Processing Record 48 of Set 11 | berdigestyakh\n",
      "Processing Record 49 of Set 11 | kokopo\n",
      "Processing Record 0 of Set 12 | san joaquin\n",
      "Failed: missing result | jomalig\n",
      "Processing Record 1 of Set 12 | burnie\n",
      "Processing Record 2 of Set 12 | ahipara\n",
      "Failed: missing result | sungai siput utara\n",
      "Processing Record 3 of Set 12 | kathmandu\n",
      "Processing Record 4 of Set 12 | paranhos\n",
      "Processing Record 5 of Set 12 | ferkessedougou\n",
      "Failed: missing result | dibaya\n",
      "Processing Record 6 of Set 12 | pangoa\n",
      "Processing Record 7 of Set 12 | dalvik\n",
      "Processing Record 8 of Set 12 | suleja\n",
      "Processing Record 9 of Set 12 | isla aguada\n",
      "Processing Record 10 of Set 12 | charters towers\n",
      "Processing Record 11 of Set 12 | dwarka\n",
      "Processing Record 12 of Set 12 | delmenhorst\n"
     ]
    },
    {
     "name": "stdout",
     "output_type": "stream",
     "text": [
      "Processing Record 13 of Set 12 | hay river\n",
      "Processing Record 14 of Set 12 | portree\n",
      "Processing Record 15 of Set 12 | kathu\n",
      "Processing Record 16 of Set 12 | yinchuan\n",
      "Processing Record 17 of Set 12 | concordia\n",
      "Processing Record 18 of Set 12 | tolaga bay\n",
      "Processing Record 19 of Set 12 | jabonga\n",
      "Processing Record 20 of Set 12 | smoky lake\n",
      "Processing Record 21 of Set 12 | doha\n",
      "Processing Record 22 of Set 12 | zhuhai\n",
      "Processing Record 23 of Set 12 | ortigueira\n",
      "Processing Record 24 of Set 12 | kindu\n",
      "Processing Record 25 of Set 12 | clyde river\n",
      "Processing Record 26 of Set 12 | bud\n",
      "Processing Record 27 of Set 12 | farafangana\n",
      "Processing Record 28 of Set 12 | gornyy\n",
      "Processing Record 29 of Set 12 | alta floresta\n",
      "Processing Record 30 of Set 12 | westport\n",
      "Processing Record 31 of Set 12 | isla mujeres\n",
      "Processing Record 32 of Set 12 | hokitika\n",
      "Processing Record 33 of Set 12 | mporokoso\n",
      "Processing Record 34 of Set 12 | seidu\n",
      "Processing Record 35 of Set 12 | puerto lopez\n",
      "Processing Record 36 of Set 12 | buraydah\n",
      "Processing Record 37 of Set 12 | bedesa\n",
      "Processing Record 38 of Set 12 | verkhneye dubrovo\n",
      "Processing Record 39 of Set 12 | amiens\n"
     ]
    },
    {
     "data": {
      "text/html": [
       "<div>\n",
       "<style scoped>\n",
       "    .dataframe tbody tr th:only-of-type {\n",
       "        vertical-align: middle;\n",
       "    }\n",
       "\n",
       "    .dataframe tbody tr th {\n",
       "        vertical-align: top;\n",
       "    }\n",
       "\n",
       "    .dataframe thead th {\n",
       "        text-align: right;\n",
       "    }\n",
       "</style>\n",
       "<table border=\"1\" class=\"dataframe\">\n",
       "  <thead>\n",
       "    <tr style=\"text-align: right;\">\n",
       "      <th></th>\n",
       "      <th>City</th>\n",
       "      <th>Lat</th>\n",
       "      <th>Lng</th>\n",
       "      <th>Max Temp</th>\n",
       "      <th>Humidity</th>\n",
       "      <th>Cloudiness</th>\n",
       "      <th>Wind Speed</th>\n",
       "      <th>Country</th>\n",
       "      <th>Date</th>\n",
       "    </tr>\n",
       "  </thead>\n",
       "  <tbody>\n",
       "    <tr>\n",
       "      <th>1</th>\n",
       "      <td>shubarkuduk</td>\n",
       "      <td>49.14</td>\n",
       "      <td>56.49</td>\n",
       "      <td>293.22</td>\n",
       "      <td>72</td>\n",
       "      <td>95</td>\n",
       "      <td>0.37</td>\n",
       "      <td>KZ</td>\n",
       "      <td>1597353718</td>\n",
       "    </tr>\n",
       "    <tr>\n",
       "      <th>3</th>\n",
       "      <td>upernavik</td>\n",
       "      <td>72.79</td>\n",
       "      <td>-56.15</td>\n",
       "      <td>277.63</td>\n",
       "      <td>92</td>\n",
       "      <td>100</td>\n",
       "      <td>11.24</td>\n",
       "      <td>GL</td>\n",
       "      <td>1597353483</td>\n",
       "    </tr>\n",
       "    <tr>\n",
       "      <th>5</th>\n",
       "      <td>butaritari</td>\n",
       "      <td>3.07</td>\n",
       "      <td>172.79</td>\n",
       "      <td>300.66</td>\n",
       "      <td>69</td>\n",
       "      <td>100</td>\n",
       "      <td>0.98</td>\n",
       "      <td>KI</td>\n",
       "      <td>1597353719</td>\n",
       "    </tr>\n",
       "    <tr>\n",
       "      <th>7</th>\n",
       "      <td>vardo</td>\n",
       "      <td>70.37</td>\n",
       "      <td>31.11</td>\n",
       "      <td>284.15</td>\n",
       "      <td>71</td>\n",
       "      <td>100</td>\n",
       "      <td>3.6</td>\n",
       "      <td>NO</td>\n",
       "      <td>1597353720</td>\n",
       "    </tr>\n",
       "    <tr>\n",
       "      <th>9</th>\n",
       "      <td>urdzhar</td>\n",
       "      <td></td>\n",
       "      <td></td>\n",
       "      <td></td>\n",
       "      <td></td>\n",
       "      <td></td>\n",
       "      <td></td>\n",
       "      <td></td>\n",
       "      <td></td>\n",
       "    </tr>\n",
       "  </tbody>\n",
       "</table>\n",
       "</div>"
      ],
      "text/plain": [
       "          City    Lat     Lng Max Temp Humidity Cloudiness Wind Speed Country  \\\n",
       "1  shubarkuduk  49.14   56.49   293.22       72         95       0.37      KZ   \n",
       "3    upernavik  72.79  -56.15   277.63       92        100      11.24      GL   \n",
       "5   butaritari   3.07  172.79   300.66       69        100       0.98      KI   \n",
       "7        vardo  70.37   31.11   284.15       71        100        3.6      NO   \n",
       "9      urdzhar                                                                  \n",
       "\n",
       "         Date  \n",
       "1  1597353718  \n",
       "3  1597353483  \n",
       "5  1597353719  \n",
       "7  1597353720  \n",
       "9              "
      ]
     },
     "execution_count": 3,
     "metadata": {},
     "output_type": "execute_result"
    }
   ],
   "source": [
    "params = {\n",
    "    'city': cities,\n",
    "    'key': weather_api_key\n",
    "}\n",
    "\n",
    "\n",
    "city_df = pd.DataFrame({\n",
    "    \"City\" :cities\n",
    "})\n",
    "\n",
    "\n",
    "city_df[\"Lat\"] = \"\"\n",
    "city_df[\"Lng\"] = \"\"\n",
    "city_df[\"Max Temp\"] = \"\"\n",
    "city_df[\"Humidity\"] = \"\"\n",
    "city_df[\"Cloudiness\"] = \"\"\n",
    "city_df[\"Wind Speed\"] = \"\"\n",
    "city_df[\"Country\"] = \"\"\n",
    "city_df[\"Date\"] = \"\"\n",
    "dinde =[]\n",
    "\n",
    "\n",
    "set = 1\n",
    "count = 1\n",
    "\n",
    "for index,row in city_df.iterrows():\n",
    "    url = f\"http://api.openweathermap.org/data/2.5/weather?q={row[0]}&appid={params['key']}\"\n",
    "    check = requests.get(url)\n",
    "    try:\n",
    "        city_df.loc[index, \"Lat\"] = check.json()['coord']['lat']\n",
    "        city_df.loc[index,\"Lng\"] = check.json()['coord']['lon']\n",
    "        city_df.loc[index,\"Max Temp\"] = check.json()['main']['temp_max']\n",
    "        city_df.loc[index,\"Humidity\"] = check.json()['main']['humidity']\n",
    "        city_df.loc[index,\"Cloudiness\"] = check.json()['clouds']['all']\n",
    "        city_df.loc[index,\"Wind Speed\"] = check.json()['wind']['speed']\n",
    "        city_df.loc[index,\"Country\"] = check.json()['sys']['country']\n",
    "        city_df.loc[index,\"Date\"] = check.json()['dt']\n",
    "\n",
    "        print(f'Processing Record {count} of Set {set} | {row[0]}')\n",
    "        count += 1\n",
    "        if count == 50:\n",
    "            count = 0\n",
    "            set += 1\n",
    "    except:\n",
    "        print(f'Failed: missing result | {row[0]}')\n",
    "        dinde.append(index)\n",
    "#         city_df.drop(city_df.index[index])\n",
    "###Deleted rows here but they arent going away\n",
    "\n",
    "\n",
    "for i in range(len(dinde)):\n",
    "    city_df.drop(city_df.index[i],inplace = True)\n",
    "\n",
    "city_df.head()\n",
    "  \n",
    "\n"
   ]
  },
  {
   "cell_type": "code",
   "execution_count": 4,
   "metadata": {},
   "outputs": [
    {
     "name": "stdout",
     "output_type": "stream",
     "text": [
      "45\n"
     ]
    },
    {
     "data": {
      "text/plain": [
       "City          589\n",
       "Lat           589\n",
       "Lng           589\n",
       "Max Temp      589\n",
       "Humidity      589\n",
       "Cloudiness    589\n",
       "Wind Speed    589\n",
       "Country       589\n",
       "Date          589\n",
       "dtype: int64"
      ]
     },
     "execution_count": 4,
     "metadata": {},
     "output_type": "execute_result"
    }
   ],
   "source": [
    "# print(city_df.count())\n",
    "\n",
    "# for i in range(len(dinde)):\n",
    "#     city_df.drop(city_df.index[i],inplace = True)\n",
    "print(len(dinde))  \n",
    "city_df.count()"
   ]
  },
  {
   "cell_type": "code",
   "execution_count": null,
   "metadata": {
    "scrolled": true
   },
   "outputs": [],
   "source": [
    "\n",
    "        "
   ]
  },
  {
   "cell_type": "markdown",
   "metadata": {},
   "source": [
    "### Convert Raw Data to DataFrame\n",
    "* Export the city data into a .csv.\n",
    "* Display the DataFrame"
   ]
  },
  {
   "cell_type": "code",
   "execution_count": 5,
   "metadata": {},
   "outputs": [
    {
     "data": {
      "text/plain": [
       "City          589\n",
       "Lat           589\n",
       "Lng           589\n",
       "Max Temp      589\n",
       "Humidity      589\n",
       "Cloudiness    589\n",
       "Wind Speed    589\n",
       "Country       589\n",
       "Date          589\n",
       "dtype: int64"
      ]
     },
     "execution_count": 5,
     "metadata": {},
     "output_type": "execute_result"
    }
   ],
   "source": [
    "city_df.count()"
   ]
  },
  {
   "cell_type": "code",
   "execution_count": 6,
   "metadata": {
    "scrolled": false
   },
   "outputs": [
    {
     "data": {
      "text/html": [
       "<div>\n",
       "<style scoped>\n",
       "    .dataframe tbody tr th:only-of-type {\n",
       "        vertical-align: middle;\n",
       "    }\n",
       "\n",
       "    .dataframe tbody tr th {\n",
       "        vertical-align: top;\n",
       "    }\n",
       "\n",
       "    .dataframe thead th {\n",
       "        text-align: right;\n",
       "    }\n",
       "</style>\n",
       "<table border=\"1\" class=\"dataframe\">\n",
       "  <thead>\n",
       "    <tr style=\"text-align: right;\">\n",
       "      <th></th>\n",
       "      <th>City</th>\n",
       "      <th>Lat</th>\n",
       "      <th>Lng</th>\n",
       "      <th>Max Temp</th>\n",
       "      <th>Humidity</th>\n",
       "      <th>Cloudiness</th>\n",
       "      <th>Wind Speed</th>\n",
       "      <th>Country</th>\n",
       "      <th>Date</th>\n",
       "    </tr>\n",
       "  </thead>\n",
       "  <tbody>\n",
       "    <tr>\n",
       "      <th>1</th>\n",
       "      <td>shubarkuduk</td>\n",
       "      <td>49.14</td>\n",
       "      <td>56.49</td>\n",
       "      <td>293.22</td>\n",
       "      <td>72</td>\n",
       "      <td>95</td>\n",
       "      <td>0.37</td>\n",
       "      <td>KZ</td>\n",
       "      <td>1597353718</td>\n",
       "    </tr>\n",
       "    <tr>\n",
       "      <th>3</th>\n",
       "      <td>upernavik</td>\n",
       "      <td>72.79</td>\n",
       "      <td>-56.15</td>\n",
       "      <td>277.63</td>\n",
       "      <td>92</td>\n",
       "      <td>100</td>\n",
       "      <td>11.24</td>\n",
       "      <td>GL</td>\n",
       "      <td>1597353483</td>\n",
       "    </tr>\n",
       "    <tr>\n",
       "      <th>5</th>\n",
       "      <td>butaritari</td>\n",
       "      <td>3.07</td>\n",
       "      <td>172.79</td>\n",
       "      <td>300.66</td>\n",
       "      <td>69</td>\n",
       "      <td>100</td>\n",
       "      <td>0.98</td>\n",
       "      <td>KI</td>\n",
       "      <td>1597353719</td>\n",
       "    </tr>\n",
       "    <tr>\n",
       "      <th>7</th>\n",
       "      <td>vardo</td>\n",
       "      <td>70.37</td>\n",
       "      <td>31.11</td>\n",
       "      <td>284.15</td>\n",
       "      <td>71</td>\n",
       "      <td>100</td>\n",
       "      <td>3.6</td>\n",
       "      <td>NO</td>\n",
       "      <td>1597353720</td>\n",
       "    </tr>\n",
       "    <tr>\n",
       "      <th>9</th>\n",
       "      <td>urdzhar</td>\n",
       "      <td></td>\n",
       "      <td></td>\n",
       "      <td></td>\n",
       "      <td></td>\n",
       "      <td></td>\n",
       "      <td></td>\n",
       "      <td></td>\n",
       "      <td></td>\n",
       "    </tr>\n",
       "  </tbody>\n",
       "</table>\n",
       "</div>"
      ],
      "text/plain": [
       "          City    Lat     Lng Max Temp Humidity Cloudiness Wind Speed Country  \\\n",
       "1  shubarkuduk  49.14   56.49   293.22       72         95       0.37      KZ   \n",
       "3    upernavik  72.79  -56.15   277.63       92        100      11.24      GL   \n",
       "5   butaritari   3.07  172.79   300.66       69        100       0.98      KI   \n",
       "7        vardo  70.37   31.11   284.15       71        100        3.6      NO   \n",
       "9      urdzhar                                                                  \n",
       "\n",
       "         Date  \n",
       "1  1597353718  \n",
       "3  1597353483  \n",
       "5  1597353719  \n",
       "7  1597353720  \n",
       "9              "
      ]
     },
     "execution_count": 6,
     "metadata": {},
     "output_type": "execute_result"
    }
   ],
   "source": [
    "city_df.head()"
   ]
  },
  {
   "cell_type": "code",
   "execution_count": null,
   "metadata": {},
   "outputs": [],
   "source": []
  },
  {
   "cell_type": "code",
   "execution_count": null,
   "metadata": {},
   "outputs": [],
   "source": []
  },
  {
   "cell_type": "markdown",
   "metadata": {},
   "source": [
    "## Inspect the data and remove the cities where the humidity > 100%.\n",
    "----\n",
    "Skip this step if there are no cities that have humidity > 100%. "
   ]
  },
  {
   "cell_type": "code",
   "execution_count": 7,
   "metadata": {
    "scrolled": false
   },
   "outputs": [
    {
     "name": "stdout",
     "output_type": "stream",
     "text": [
      "589\n",
      "1      72.0\n",
      "3      92.0\n",
      "5      69.0\n",
      "7      71.0\n",
      "9       NaN\n",
      "       ... \n",
      "629    74.0\n",
      "630    24.0\n",
      "631    78.0\n",
      "632    93.0\n",
      "633    64.0\n",
      "Name: Humidity, Length: 589, dtype: float64\n"
     ]
    },
    {
     "data": {
      "text/plain": [
       "False    589\n",
       "Name: Humidity, dtype: int64"
      ]
     },
     "execution_count": 7,
     "metadata": {},
     "output_type": "execute_result"
    }
   ],
   "source": [
    "\n",
    "print(len(city_df))\n",
    "city_df['Humidity']  = pd.to_numeric(city_df['Humidity'])\n",
    "print((city_df['Humidity']))\n",
    "# for index,row in city_df.iterrows():\n",
    "city_df['Humidity'].gt(100).value_counts()\n",
    "\n"
   ]
  },
  {
   "cell_type": "code",
   "execution_count": null,
   "metadata": {},
   "outputs": [],
   "source": []
  },
  {
   "cell_type": "code",
   "execution_count": 8,
   "metadata": {},
   "outputs": [],
   "source": [
    "#  Get the indices of cities that have humidity over 100%.\n"
   ]
  },
  {
   "cell_type": "code",
   "execution_count": null,
   "metadata": {},
   "outputs": [],
   "source": []
  },
  {
   "cell_type": "code",
   "execution_count": 9,
   "metadata": {},
   "outputs": [
    {
     "data": {
      "text/html": [
       "<div>\n",
       "<style scoped>\n",
       "    .dataframe tbody tr th:only-of-type {\n",
       "        vertical-align: middle;\n",
       "    }\n",
       "\n",
       "    .dataframe tbody tr th {\n",
       "        vertical-align: top;\n",
       "    }\n",
       "\n",
       "    .dataframe thead th {\n",
       "        text-align: right;\n",
       "    }\n",
       "</style>\n",
       "<table border=\"1\" class=\"dataframe\">\n",
       "  <thead>\n",
       "    <tr style=\"text-align: right;\">\n",
       "      <th></th>\n",
       "      <th>City</th>\n",
       "      <th>Lat</th>\n",
       "      <th>Lng</th>\n",
       "      <th>Max Temp</th>\n",
       "      <th>Humidity</th>\n",
       "      <th>Cloudiness</th>\n",
       "      <th>Wind Speed</th>\n",
       "      <th>Country</th>\n",
       "      <th>Date</th>\n",
       "    </tr>\n",
       "  </thead>\n",
       "  <tbody>\n",
       "    <tr>\n",
       "      <th>1</th>\n",
       "      <td>shubarkuduk</td>\n",
       "      <td>49.14</td>\n",
       "      <td>56.49</td>\n",
       "      <td>293.22</td>\n",
       "      <td>72.0</td>\n",
       "      <td>95</td>\n",
       "      <td>0.37</td>\n",
       "      <td>KZ</td>\n",
       "      <td>1597353718</td>\n",
       "    </tr>\n",
       "    <tr>\n",
       "      <th>3</th>\n",
       "      <td>upernavik</td>\n",
       "      <td>72.79</td>\n",
       "      <td>-56.15</td>\n",
       "      <td>277.63</td>\n",
       "      <td>92.0</td>\n",
       "      <td>100</td>\n",
       "      <td>11.24</td>\n",
       "      <td>GL</td>\n",
       "      <td>1597353483</td>\n",
       "    </tr>\n",
       "    <tr>\n",
       "      <th>5</th>\n",
       "      <td>butaritari</td>\n",
       "      <td>3.07</td>\n",
       "      <td>172.79</td>\n",
       "      <td>300.66</td>\n",
       "      <td>69.0</td>\n",
       "      <td>100</td>\n",
       "      <td>0.98</td>\n",
       "      <td>KI</td>\n",
       "      <td>1597353719</td>\n",
       "    </tr>\n",
       "    <tr>\n",
       "      <th>7</th>\n",
       "      <td>vardo</td>\n",
       "      <td>70.37</td>\n",
       "      <td>31.11</td>\n",
       "      <td>284.15</td>\n",
       "      <td>71.0</td>\n",
       "      <td>100</td>\n",
       "      <td>3.6</td>\n",
       "      <td>NO</td>\n",
       "      <td>1597353720</td>\n",
       "    </tr>\n",
       "    <tr>\n",
       "      <th>9</th>\n",
       "      <td>urdzhar</td>\n",
       "      <td></td>\n",
       "      <td></td>\n",
       "      <td></td>\n",
       "      <td>NaN</td>\n",
       "      <td></td>\n",
       "      <td></td>\n",
       "      <td></td>\n",
       "      <td></td>\n",
       "    </tr>\n",
       "    <tr>\n",
       "      <th>...</th>\n",
       "      <td>...</td>\n",
       "      <td>...</td>\n",
       "      <td>...</td>\n",
       "      <td>...</td>\n",
       "      <td>...</td>\n",
       "      <td>...</td>\n",
       "      <td>...</td>\n",
       "      <td>...</td>\n",
       "      <td>...</td>\n",
       "    </tr>\n",
       "    <tr>\n",
       "      <th>629</th>\n",
       "      <td>puerto lopez</td>\n",
       "      <td>4.08</td>\n",
       "      <td>-72.96</td>\n",
       "      <td>301.93</td>\n",
       "      <td>74.0</td>\n",
       "      <td>82</td>\n",
       "      <td>1.61</td>\n",
       "      <td>CO</td>\n",
       "      <td>1597353816</td>\n",
       "    </tr>\n",
       "    <tr>\n",
       "      <th>630</th>\n",
       "      <td>buraydah</td>\n",
       "      <td>26.33</td>\n",
       "      <td>43.98</td>\n",
       "      <td>306.15</td>\n",
       "      <td>24.0</td>\n",
       "      <td>0</td>\n",
       "      <td>2.1</td>\n",
       "      <td>SA</td>\n",
       "      <td>1597353656</td>\n",
       "    </tr>\n",
       "    <tr>\n",
       "      <th>631</th>\n",
       "      <td>bedesa</td>\n",
       "      <td>8.9</td>\n",
       "      <td>40.78</td>\n",
       "      <td>292.22</td>\n",
       "      <td>78.0</td>\n",
       "      <td>98</td>\n",
       "      <td>1.61</td>\n",
       "      <td>ET</td>\n",
       "      <td>1597353816</td>\n",
       "    </tr>\n",
       "    <tr>\n",
       "      <th>632</th>\n",
       "      <td>verkhneye dubrovo</td>\n",
       "      <td>56.75</td>\n",
       "      <td>61.05</td>\n",
       "      <td>282.15</td>\n",
       "      <td>93.0</td>\n",
       "      <td>98</td>\n",
       "      <td>1</td>\n",
       "      <td>RU</td>\n",
       "      <td>1597353816</td>\n",
       "    </tr>\n",
       "    <tr>\n",
       "      <th>633</th>\n",
       "      <td>amiens</td>\n",
       "      <td>49.9</td>\n",
       "      <td>2.3</td>\n",
       "      <td>297.15</td>\n",
       "      <td>64.0</td>\n",
       "      <td>78</td>\n",
       "      <td>3.6</td>\n",
       "      <td>FR</td>\n",
       "      <td>1597353748</td>\n",
       "    </tr>\n",
       "  </tbody>\n",
       "</table>\n",
       "<p>589 rows × 9 columns</p>\n",
       "</div>"
      ],
      "text/plain": [
       "                  City    Lat     Lng Max Temp  Humidity Cloudiness  \\\n",
       "1          shubarkuduk  49.14   56.49   293.22      72.0         95   \n",
       "3            upernavik  72.79  -56.15   277.63      92.0        100   \n",
       "5           butaritari   3.07  172.79   300.66      69.0        100   \n",
       "7                vardo  70.37   31.11   284.15      71.0        100   \n",
       "9              urdzhar                               NaN              \n",
       "..                 ...    ...     ...      ...       ...        ...   \n",
       "629       puerto lopez   4.08  -72.96   301.93      74.0         82   \n",
       "630           buraydah  26.33   43.98   306.15      24.0          0   \n",
       "631             bedesa    8.9   40.78   292.22      78.0         98   \n",
       "632  verkhneye dubrovo  56.75   61.05   282.15      93.0         98   \n",
       "633             amiens   49.9     2.3   297.15      64.0         78   \n",
       "\n",
       "    Wind Speed Country        Date  \n",
       "1         0.37      KZ  1597353718  \n",
       "3        11.24      GL  1597353483  \n",
       "5         0.98      KI  1597353719  \n",
       "7          3.6      NO  1597353720  \n",
       "9                                   \n",
       "..         ...     ...         ...  \n",
       "629       1.61      CO  1597353816  \n",
       "630        2.1      SA  1597353656  \n",
       "631       1.61      ET  1597353816  \n",
       "632          1      RU  1597353816  \n",
       "633        3.6      FR  1597353748  \n",
       "\n",
       "[589 rows x 9 columns]"
      ]
     },
     "execution_count": 9,
     "metadata": {},
     "output_type": "execute_result"
    }
   ],
   "source": [
    "# Make a new DataFrame equal to the city data to drop all humidity outliers by index.\n",
    "# Passing \"inplace=False\" will make a copy of the city_data DataFrame, which we call \"clean_city_data\".\n",
    "clcity = city_df.loc[city_df['Humidity'].gt(100)==False]\n",
    "clcity"
   ]
  },
  {
   "cell_type": "code",
   "execution_count": 10,
   "metadata": {},
   "outputs": [
    {
     "data": {
      "text/html": [
       "<div>\n",
       "<style scoped>\n",
       "    .dataframe tbody tr th:only-of-type {\n",
       "        vertical-align: middle;\n",
       "    }\n",
       "\n",
       "    .dataframe tbody tr th {\n",
       "        vertical-align: top;\n",
       "    }\n",
       "\n",
       "    .dataframe thead th {\n",
       "        text-align: right;\n",
       "    }\n",
       "</style>\n",
       "<table border=\"1\" class=\"dataframe\">\n",
       "  <thead>\n",
       "    <tr style=\"text-align: right;\">\n",
       "      <th></th>\n",
       "      <th>City</th>\n",
       "      <th>Latitude</th>\n",
       "      <th>Longitude</th>\n",
       "      <th>Max Tempurature (F)</th>\n",
       "      <th>Humidity (%)</th>\n",
       "      <th>Cloudiness (%)</th>\n",
       "      <th>Wind Speed (mph)</th>\n",
       "      <th>Date</th>\n",
       "    </tr>\n",
       "  </thead>\n",
       "  <tbody>\n",
       "    <tr>\n",
       "      <th>1</th>\n",
       "      <td>shubarkuduk</td>\n",
       "      <td>49.14</td>\n",
       "      <td>56.49</td>\n",
       "      <td>68.126</td>\n",
       "      <td>72.0</td>\n",
       "      <td>95</td>\n",
       "      <td>0.37</td>\n",
       "      <td>1597353718</td>\n",
       "    </tr>\n",
       "    <tr>\n",
       "      <th>3</th>\n",
       "      <td>upernavik</td>\n",
       "      <td>72.79</td>\n",
       "      <td>-56.15</td>\n",
       "      <td>40.064</td>\n",
       "      <td>92.0</td>\n",
       "      <td>100</td>\n",
       "      <td>11.24</td>\n",
       "      <td>1597353483</td>\n",
       "    </tr>\n",
       "    <tr>\n",
       "      <th>5</th>\n",
       "      <td>butaritari</td>\n",
       "      <td>3.07</td>\n",
       "      <td>172.79</td>\n",
       "      <td>81.518</td>\n",
       "      <td>69.0</td>\n",
       "      <td>100</td>\n",
       "      <td>0.98</td>\n",
       "      <td>1597353719</td>\n",
       "    </tr>\n",
       "    <tr>\n",
       "      <th>7</th>\n",
       "      <td>vardo</td>\n",
       "      <td>70.37</td>\n",
       "      <td>31.11</td>\n",
       "      <td>51.800</td>\n",
       "      <td>71.0</td>\n",
       "      <td>100</td>\n",
       "      <td>3.6</td>\n",
       "      <td>1597353720</td>\n",
       "    </tr>\n",
       "    <tr>\n",
       "      <th>11</th>\n",
       "      <td>ilulissat</td>\n",
       "      <td>69.22</td>\n",
       "      <td>-51.1</td>\n",
       "      <td>46.400</td>\n",
       "      <td>52.0</td>\n",
       "      <td>100</td>\n",
       "      <td>6.7</td>\n",
       "      <td>1597353720</td>\n",
       "    </tr>\n",
       "    <tr>\n",
       "      <th>...</th>\n",
       "      <td>...</td>\n",
       "      <td>...</td>\n",
       "      <td>...</td>\n",
       "      <td>...</td>\n",
       "      <td>...</td>\n",
       "      <td>...</td>\n",
       "      <td>...</td>\n",
       "      <td>...</td>\n",
       "    </tr>\n",
       "    <tr>\n",
       "      <th>629</th>\n",
       "      <td>puerto lopez</td>\n",
       "      <td>4.08</td>\n",
       "      <td>-72.96</td>\n",
       "      <td>83.804</td>\n",
       "      <td>74.0</td>\n",
       "      <td>82</td>\n",
       "      <td>1.61</td>\n",
       "      <td>1597353816</td>\n",
       "    </tr>\n",
       "    <tr>\n",
       "      <th>630</th>\n",
       "      <td>buraydah</td>\n",
       "      <td>26.33</td>\n",
       "      <td>43.98</td>\n",
       "      <td>91.400</td>\n",
       "      <td>24.0</td>\n",
       "      <td>0</td>\n",
       "      <td>2.1</td>\n",
       "      <td>1597353656</td>\n",
       "    </tr>\n",
       "    <tr>\n",
       "      <th>631</th>\n",
       "      <td>bedesa</td>\n",
       "      <td>8.9</td>\n",
       "      <td>40.78</td>\n",
       "      <td>66.326</td>\n",
       "      <td>78.0</td>\n",
       "      <td>98</td>\n",
       "      <td>1.61</td>\n",
       "      <td>1597353816</td>\n",
       "    </tr>\n",
       "    <tr>\n",
       "      <th>632</th>\n",
       "      <td>verkhneye dubrovo</td>\n",
       "      <td>56.75</td>\n",
       "      <td>61.05</td>\n",
       "      <td>48.200</td>\n",
       "      <td>93.0</td>\n",
       "      <td>98</td>\n",
       "      <td>1</td>\n",
       "      <td>1597353816</td>\n",
       "    </tr>\n",
       "    <tr>\n",
       "      <th>633</th>\n",
       "      <td>amiens</td>\n",
       "      <td>49.9</td>\n",
       "      <td>2.3</td>\n",
       "      <td>75.200</td>\n",
       "      <td>64.0</td>\n",
       "      <td>78</td>\n",
       "      <td>3.6</td>\n",
       "      <td>1597353748</td>\n",
       "    </tr>\n",
       "  </tbody>\n",
       "</table>\n",
       "<p>550 rows × 8 columns</p>\n",
       "</div>"
      ],
      "text/plain": [
       "                  City Latitude Longitude  Max Tempurature (F)  Humidity (%)  \\\n",
       "1          shubarkuduk    49.14     56.49               68.126          72.0   \n",
       "3            upernavik    72.79    -56.15               40.064          92.0   \n",
       "5           butaritari     3.07    172.79               81.518          69.0   \n",
       "7                vardo    70.37     31.11               51.800          71.0   \n",
       "11           ilulissat    69.22     -51.1               46.400          52.0   \n",
       "..                 ...      ...       ...                  ...           ...   \n",
       "629       puerto lopez     4.08    -72.96               83.804          74.0   \n",
       "630           buraydah    26.33     43.98               91.400          24.0   \n",
       "631             bedesa      8.9     40.78               66.326          78.0   \n",
       "632  verkhneye dubrovo    56.75     61.05               48.200          93.0   \n",
       "633             amiens     49.9       2.3               75.200          64.0   \n",
       "\n",
       "    Cloudiness (%) Wind Speed (mph)        Date  \n",
       "1               95             0.37  1597353718  \n",
       "3              100            11.24  1597353483  \n",
       "5              100             0.98  1597353719  \n",
       "7              100              3.6  1597353720  \n",
       "11             100              6.7  1597353720  \n",
       "..             ...              ...         ...  \n",
       "629             82             1.61  1597353816  \n",
       "630              0              2.1  1597353656  \n",
       "631             98             1.61  1597353816  \n",
       "632             98                1  1597353816  \n",
       "633             78              3.6  1597353748  \n",
       "\n",
       "[550 rows x 8 columns]"
      ]
     },
     "execution_count": 10,
     "metadata": {},
     "output_type": "execute_result"
    }
   ],
   "source": [
    "# Extract relevant fields from the data frame\n",
    "#convert Kelvin to F\n",
    "\n",
    "\n",
    "rcity = clcity[['City','Lat','Lng',\"Max Temp\",'Humidity', 'Cloudiness','Wind Speed','Date' ]]\n",
    "rcity = rcity.dropna(how = 'any')\n",
    "rcity = pd.DataFrame(rcity)\n",
    "rcity['Max Temp']  = pd.to_numeric(rcity['Max Temp'],errors = 'coerce')\n",
    "rcity['Max Temp'] = (rcity['Max Temp']) *9/5 -459.67\n",
    "rcity = rcity.rename(columns = {\n",
    "    'Lat': \"Latitude\",\n",
    "    'Lng': \"Longitude\",\n",
    "    \"Max Temp\": 'Max Tempurature (F)',\n",
    "    \"Humidity\": 'Humidity (%)',\n",
    "    'Cloudiness' : 'Cloudiness (%)',\n",
    "    'Wind Speed': 'Wind Speed (mph)'\n",
    "})\n",
    "\n",
    "# Export the City_Data into a csv\n",
    "rcity.to_csv(output_data_file)\n",
    "rcity"
   ]
  },
  {
   "cell_type": "markdown",
   "metadata": {},
   "source": [
    "## Plotting the Data\n",
    "* Use proper labeling of the plots using plot titles (including date of analysis) and axes labels.\n",
    "* Save the plotted figures as .pngs."
   ]
  },
  {
   "cell_type": "markdown",
   "metadata": {},
   "source": [
    "## Latitude vs. Temperature Plot"
   ]
  },
  {
   "cell_type": "code",
   "execution_count": 11,
   "metadata": {},
   "outputs": [
    {
     "data": {
      "image/png": "[encoded data removed]",
      "text/plain": [
       "<Figure size 576x576 with 1 Axes>"
      ]
     },
     "metadata": {
      "needs_background": "light"
     },
     "output_type": "display_data"
    }
   ],
   "source": [
    "temlat = rcity[['Max Tempurature (F)','Latitude','Date']]\n",
    "\n",
    "temlat.plot(kind='scatter',x = 'Latitude',y = 'Max Tempurature (F)',\n",
    "            color = 'red', grid = True,figsize= (8,8))\n",
    "plt.title(f\"Temperature VS. Latitude\")\n",
    "plt.show()"
   ]
  },
  {
   "cell_type": "code",
   "execution_count": null,
   "metadata": {
    "scrolled": true
   },
   "outputs": [],
   "source": []
  },
  {
   "cell_type": "markdown",
   "metadata": {},
   "source": [
    "## Latitude vs. Humidity Plot"
   ]
  },
  {
   "cell_type": "code",
   "execution_count": 12,
   "metadata": {},
   "outputs": [
    {
     "data": {
      "image/png": "[encoded data removed]",
      "text/plain": [
       "<Figure size 576x576 with 1 Axes>"
      ]
     },
     "metadata": {
      "needs_background": "light"
     },
     "output_type": "display_data"
    }
   ],
   "source": [
    "humlat = rcity[['Humidity (%)','Latitude']]\n",
    "\n",
    "humlat.plot(kind='scatter',x = 'Latitude',y = 'Humidity (%)',\n",
    "            color = 'green', grid = True,figsize= (8,8))\n",
    "plt.title(\"Humidity VS. Latitude\")\n",
    "plt.show()"
   ]
  },
  {
   "cell_type": "code",
   "execution_count": null,
   "metadata": {},
   "outputs": [],
   "source": []
  },
  {
   "cell_type": "markdown",
   "metadata": {},
   "source": [
    "## Latitude vs. Cloudiness Plot"
   ]
  },
  {
   "cell_type": "code",
   "execution_count": 13,
   "metadata": {},
   "outputs": [
    {
     "data": {
      "image/png": "[encoded data removed]",
      "text/plain": [
       "<Figure size 576x576 with 1 Axes>"
      ]
     },
     "metadata": {
      "needs_background": "light"
     },
     "output_type": "display_data"
    }
   ],
   "source": [
    "clolat = rcity[['Cloudiness (%)','Latitude']]\n",
    "\n",
    "clolat.plot(kind='scatter',x = 'Latitude',y = 'Cloudiness (%)',\n",
    "            color = 'purple', grid = True,figsize= (8,8))\n",
    "plt.title(\"Cloudiness VS. Latitude\")\n",
    "plt.show()"
   ]
  },
  {
   "cell_type": "code",
   "execution_count": null,
   "metadata": {},
   "outputs": [],
   "source": []
  },
  {
   "cell_type": "markdown",
   "metadata": {},
   "source": [
    "## Latitude vs. Wind Speed Plot"
   ]
  },
  {
   "cell_type": "code",
   "execution_count": 14,
   "metadata": {},
   "outputs": [
    {
     "data": {
      "image/png": "[encoded data removed]",
      "text/plain": [
       "<Figure size 576x576 with 1 Axes>"
      ]
     },
     "metadata": {
      "needs_background": "light"
     },
     "output_type": "display_data"
    }
   ],
   "source": [
    "clolat = rcity[['Wind Speed (mph)','Latitude']]\n",
    "\n",
    "clolat.plot(kind='scatter',x = 'Latitude',y = 'Wind Speed (mph)',\n",
    "            color = 'orange', grid = True,figsize= (8,8))\n",
    "plt.title(\"Wind Speed VS. Latitude \")\n",
    "plt.show()"
   ]
  },
  {
   "cell_type": "code",
   "execution_count": null,
   "metadata": {},
   "outputs": [],
   "source": []
  },
  {
   "cell_type": "markdown",
   "metadata": {},
   "source": [
    "## Linear Regression"
   ]
  },
  {
   "cell_type": "code",
   "execution_count": 15,
   "metadata": {
    "scrolled": false
   },
   "outputs": [
    {
     "name": "stdout",
     "output_type": "stream",
     "text": [
      "The Corr coefficient is -0.727\n"
     ]
    },
    {
     "data": {
      "image/png": "[encoded data removed]",
      "text/plain": [
       "<Figure size 432x288 with 1 Axes>"
      ]
     },
     "metadata": {
      "needs_background": "light"
     },
     "output_type": "display_data"
    },
    {
     "name": "stdout",
     "output_type": "stream",
     "text": [
      "The Corr coefficient is 0.807\n"
     ]
    },
    {
     "data": {
      "image/png": "[encoded data removed]",
      "text/plain": [
       "<Figure size 432x288 with 1 Axes>"
      ]
     },
     "metadata": {
      "needs_background": "light"
     },
     "output_type": "display_data"
    },
    {
     "name": "stdout",
     "output_type": "stream",
     "text": [
      "The Corr coefficient is -0.727\n"
     ]
    },
    {
     "data": {
      "image/png": "[encoded data removed]",
      "text/plain": [
       "<Figure size 432x288 with 1 Axes>"
      ]
     },
     "metadata": {
      "needs_background": "light"
     },
     "output_type": "display_data"
    },
    {
     "name": "stdout",
     "output_type": "stream",
     "text": [
      "The Corr coefficient is 0.807\n"
     ]
    },
    {
     "data": {
      "image/png": "[encoded data removed]",
      "text/plain": [
       "<Figure size 432x288 with 1 Axes>"
      ]
     },
     "metadata": {
      "needs_background": "light"
     },
     "output_type": "display_data"
    },
    {
     "name": "stdout",
     "output_type": "stream",
     "text": [
      "The Corr coefficient is -0.727\n"
     ]
    },
    {
     "data": {
      "image/png": "[encoded data removed]",
      "text/plain": [
       "<Figure size 432x288 with 1 Axes>"
      ]
     },
     "metadata": {
      "needs_background": "light"
     },
     "output_type": "display_data"
    },
    {
     "name": "stdout",
     "output_type": "stream",
     "text": [
      "The Corr coefficient is 0.807\n"
     ]
    },
    {
     "data": {
      "image/png": "[encoded data removed]",
      "text/plain": [
       "<Figure size 432x288 with 1 Axes>"
      ]
     },
     "metadata": {
      "needs_background": "light"
     },
     "output_type": "display_data"
    },
    {
     "name": "stdout",
     "output_type": "stream",
     "text": [
      "The Corr coefficient is -0.727\n"
     ]
    },
    {
     "data": {
      "image/png": "[encoded data removed]",
      "text/plain": [
       "<Figure size 432x288 with 1 Axes>"
      ]
     },
     "metadata": {
      "needs_background": "light"
     },
     "output_type": "display_data"
    },
    {
     "name": "stdout",
     "output_type": "stream",
     "text": [
      "The Corr coefficient is 0.807\n"
     ]
    },
    {
     "data": {
      "image/png": "[encoded data removed]",
      "text/plain": [
       "<Figure size 432x288 with 1 Axes>"
      ]
     },
     "metadata": {
      "needs_background": "light"
     },
     "output_type": "display_data"
    }
   ],
   "source": [
    "# OPTIONAL: Create a function to create Linear Regression plots\n",
    "\n",
    "count = 0\n",
    "items = ['Max Tempurature (F)','Max Tempurature (F)','Humidity (%)','Humidity (%)',\n",
    "        'Cloudiness (%)','Cloudiness (%)','Wind Speed (mph)','Wind Speed (mph)']\n",
    "for i in items:\n",
    "    if (count %2) ==0:\n",
    "        Nlat = rcity.loc[temlat['Latitude'].gt(0)==True]\n",
    "    else:\n",
    "        Nlat = rcity.loc[temlat['Latitude'].gt(0)==False]\n",
    "    Nlat = pd.DataFrame(Nlat)\n",
    "    Nlat['Latitude']  = pd.to_numeric(Nlat['Latitude'])\n",
    "    Nlat = pd.DataFrame(Nlat)\n",
    "    Nlat[i]  = pd.to_numeric(Nlat[i])\n",
    "    Nlat = pd.DataFrame(Nlat)\n",
    "    \n",
    "    count += 1\n",
    "    \n",
    "    Corlat = Nlat.corr()\n",
    "    corlat = round(Corlat['Latitude'][1],3)\n",
    "    print(f'The Corr coefficient is {corlat}')\n",
    "      \n",
    "    x_values = Nlat['Latitude']\n",
    "    y_values = Nlat[i]\n",
    "    (slope, intercept, rvalue, pvalue, stderr) = linregress(x_values, y_values)\n",
    "    regress_values = x_values * slope + intercept\n",
    "    line_eq = \"y = \" + str(round(slope,2)) + \"x + \" + str(round(intercept,2))\n",
    "    plt.scatter(x_values,y_values)\n",
    "    plt.plot(x_values,regress_values,\"r-\")\n",
    "    plt.annotate(line_eq,(20,40),fontsize=15,color=\"red\")\n",
    "    plt.xlabel('Latitude')\n",
    "    plt.ylabel(i)\n",
    "    plt.title(f'{i} Vs. Latitude')\n",
    "    plt.show()"
   ]
  },
  {
   "cell_type": "code",
   "execution_count": 16,
   "metadata": {},
   "outputs": [],
   "source": [
    "# Create Northern and Southern Hemisphere DataFrames"
   ]
  },
  {
   "cell_type": "markdown",
   "metadata": {},
   "source": [
    "####  Northern Hemisphere - Max Temp vs. Latitude Linear Regression"
   ]
  },
  {
   "cell_type": "code",
   "execution_count": 17,
   "metadata": {},
   "outputs": [
    {
     "name": "stdout",
     "output_type": "stream",
     "text": [
      "The Corr coefficient is -0.727\n"
     ]
    },
    {
     "data": {
      "image/png": "[encoded data removed]",
      "text/plain": [
       "<Figure size 432x288 with 1 Axes>"
      ]
     },
     "metadata": {
      "needs_background": "light"
     },
     "output_type": "display_data"
    }
   ],
   "source": [
    "\n",
    "Nlat = temlat.loc[temlat['Latitude'].gt(0)==True]\n",
    "Nlat = pd.DataFrame(Nlat)\n",
    "Nlat['Latitude']  = pd.to_numeric(Nlat['Latitude'])\n",
    "Nlat = pd.DataFrame(Nlat)\n",
    "Nlat['Max Tempurature (F)']  = pd.to_numeric(Nlat['Max Tempurature (F)'])\n",
    "Nlat = pd.DataFrame(Nlat)\n",
    "\n",
    "Corlat = Nlat.corr()\n",
    "corlat = round(Corlat['Latitude'][0],3)\n",
    "print(f'The Corr coefficient is {corlat}')\n",
    "      \n",
    "x_values = Nlat['Latitude']\n",
    "y_values = Nlat['Max Tempurature (F)']\n",
    "(slope, intercept, rvalue, pvalue, stderr) = linregress(x_values, y_values)\n",
    "regress_values = x_values * slope + intercept\n",
    "line_eq = \"y = \" + str(round(slope,2)) + \"x + \" + str(round(intercept,2))\n",
    "plt.scatter(x_values,y_values)\n",
    "plt.plot(x_values,regress_values,\"r-\")\n",
    "plt.annotate(line_eq,(20,40),fontsize=15,color=\"red\")\n",
    "plt.xlabel('Latitude')\n",
    "plt.ylabel('Max Tempurature (F)')\n",
    "plt.title('Max Tempurature Vs. Latitude')\n",
    "plt.show()"
   ]
  },
  {
   "cell_type": "code",
   "execution_count": null,
   "metadata": {},
   "outputs": [],
   "source": []
  },
  {
   "cell_type": "markdown",
   "metadata": {},
   "source": [
    "####  Southern Hemisphere - Max Temp vs. Latitude Linear Regression"
   ]
  },
  {
   "cell_type": "code",
   "execution_count": null,
   "metadata": {},
   "outputs": [],
   "source": []
  },
  {
   "cell_type": "markdown",
   "metadata": {},
   "source": [
    "####  Northern Hemisphere - Humidity (%) vs. Latitude Linear Regression"
   ]
  },
  {
   "cell_type": "code",
   "execution_count": null,
   "metadata": {},
   "outputs": [],
   "source": []
  },
  {
   "cell_type": "markdown",
   "metadata": {},
   "source": [
    "####  Southern Hemisphere - Humidity (%) vs. Latitude Linear Regression"
   ]
  },
  {
   "cell_type": "code",
   "execution_count": null,
   "metadata": {},
   "outputs": [],
   "source": []
  },
  {
   "cell_type": "markdown",
   "metadata": {},
   "source": [
    "####  Northern Hemisphere - Cloudiness (%) vs. Latitude Linear Regression"
   ]
  },
  {
   "cell_type": "code",
   "execution_count": null,
   "metadata": {},
   "outputs": [],
   "source": []
  },
  {
   "cell_type": "markdown",
   "metadata": {},
   "source": [
    "####  Southern Hemisphere - Cloudiness (%) vs. Latitude Linear Regression"
   ]
  },
  {
   "cell_type": "code",
   "execution_count": null,
   "metadata": {},
   "outputs": [],
   "source": []
  },
  {
   "cell_type": "markdown",
   "metadata": {},
   "source": [
    "####  Northern Hemisphere - Wind Speed (mph) vs. Latitude Linear Regression"
   ]
  },
  {
   "cell_type": "code",
   "execution_count": null,
   "metadata": {},
   "outputs": [],
   "source": []
  },
  {
   "cell_type": "markdown",
   "metadata": {},
   "source": [
    "####  Southern Hemisphere - Wind Speed (mph) vs. Latitude Linear Regression"
   ]
  },
  {
   "cell_type": "code",
   "execution_count": null,
   "metadata": {},
   "outputs": [],
   "source": []
  },
  {
   "cell_type": "code",
   "execution_count": null,
   "metadata": {},
   "outputs": [],
   "source": []
  }
 ],
 "metadata": {
  "anaconda-cloud": {},
  "kernel_info": {
   "name": "python3"
  },
  "kernelspec": {
   "display_name": "Python 3",
   "language": "python",
   "name": "python3"
  },
  "language_info": {
   "codemirror_mode": {
    "name": "ipython",
    "version": 3
   },
   "file_extension": ".py",
   "mimetype": "text/x-python",
   "name": "python",
   "nbconvert_exporter": "python",
   "pygments_lexer": "ipython3",
   "version": "3.7.6"
  },
  "latex_envs": {
   "LaTeX_envs_menu_present": true,
   "autoclose": false,
   "autocomplete": true,
   "bibliofile": "biblio.bib",
   "cite_by": "apalike",
   "current_citInitial": 1,
   "eqLabelWithNumbers": true,
   "eqNumInitial": 1,
   "hotkeys": {
    "equation": "Ctrl-E",
    "itemize": "Ctrl-I"
   },
   "labels_anchors": false,
   "latex_user_defs": false,
   "report_style_numbering": false,
   "user_envs_cfg": false
  },
  "nteract": {
   "version": "0.12.3"
  }
 },
 "nbformat": 4,
 "nbformat_minor": 2
}
